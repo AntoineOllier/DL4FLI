{
 "cells": [
  {
   "cell_type": "code",
   "execution_count": 50,
   "metadata": {},
   "outputs": [],
   "source": [
    "# Relevant libraries and functions\n",
    "from __future__ import print_function\n",
    "import random\n",
    "import matplotlib.pyplot as plt\n",
    "import scipy.ndimage\n",
    "import numpy as np, h5py\n",
    "import os, time, sys\n",
    "import tensorflow as tf\n",
    "import keras\n",
    "from keras.models import Model\n",
    "from keras.layers import BatchNormalization, Convolution2D, Input, SpatialDropout2D, UpSampling2D, MaxPooling2D, concatenate\n",
    "#from keras.layers.core import Activation, Laye#\n",
    "from keras.layers import Activation, Layer\n",
    "from keras.layers import Dense, Dropout, Conv1D, Input, Conv2D, add, Conv3D, Reshape\n",
    "from keras.callbacks import History, EarlyStopping, ModelCheckpoint, CSVLogger\n",
    "from itertools import cycle\n",
    "from sklearn import metrics\n",
    "from tensorflow.keras.optimizers import RMSprop\n",
    "from keras.utils import np_utils\n",
    "from keras.backend import set_session\n",
    "from keras.layers.convolutional import Convolution2D, MaxPooling2D, SeparableConv2D, Conv2DTranspose\n",
    "plt.style.use('dark_background')"
   ]
  },
  {
   "cell_type": "markdown",
   "metadata": {},
   "source": [
    "# Load train data"
   ]
  },
  {
   "cell_type": "code",
   "execution_count": 51,
   "metadata": {},
   "outputs": [],
   "source": [
    "given = False"
   ]
  },
  {
   "cell_type": "markdown",
   "metadata": {},
   "source": [
    "## Authors' data"
   ]
  },
  {
   "cell_type": "code",
   "execution_count": 52,
   "metadata": {},
   "outputs": [],
   "source": [
    "if given == True:\n",
    "        print(\"pop\")\n",
    "        #f_data = '.../trainData' # Directory with trainging data\n",
    "        f_data = \"/home/antoine/Documents/Code/DL4FLI/FLINET_ex/traindata\"\n",
    "        stacks = os.listdir(f_data)\n",
    "        numS = int(len(stacks))\n",
    "\n",
    "        nTG = 160 # Number of time-points\n",
    "        xX = 28\n",
    "        yY = 28\n",
    "\n",
    "        tpsfD = np.ndarray(\n",
    "                (numS, int(nTG), int(xX), int(yY), int(1)), dtype=np.float32\n",
    "                )\n",
    "        t1 = np.ndarray(\n",
    "                (numS, int(xX), int(yY), int(1)), dtype=np.float32\n",
    "                )\n",
    "        t2 = np.ndarray(\n",
    "                (numS, int(xX), int(yY), int(1)), dtype=np.float32\n",
    "                )\n",
    "        tR = np.ndarray(\n",
    "                (numS, int(xX), int(yY), int(1)), dtype=np.float32\n",
    "                )\n",
    "\n",
    "        i = 0\n",
    "        for d in stacks:\n",
    "                # Save values to respective mapping\n",
    "                f = h5py.File(os.path.join(f_data,d),'r') \n",
    "                tpsfD[i,:,:,:,0] = f.get('sigD')\n",
    "                f = h5py.File(os.path.join(f_data,d),'r') \n",
    "                t1[i,:,:,0] = f.get('t1')\n",
    "                f = h5py.File(os.path.join(f_data,d),'r') \n",
    "                t2[i,:,:,0] = f.get('t2')\n",
    "                f = h5py.File(os.path.join(f_data,d),'r') \n",
    "                tR[i,:,:,0] = f.get('rT')\n",
    "                i = i + 1\n",
    "        \n",
    "        tpsfD =  np.moveaxis(tpsfD, 1, -2)\n",
    "        print(tpsfD.shape)"
   ]
  },
  {
   "cell_type": "markdown",
   "metadata": {},
   "source": [
    "## Data with authors' simulator"
   ]
  },
  {
   "cell_type": "code",
   "execution_count": 53,
   "metadata": {},
   "outputs": [
    {
     "name": "stdout",
     "output_type": "stream",
     "text": [
      "pop\n"
     ]
    }
   ],
   "source": [
    "if given == False:\n",
    "        print(\"pop\")\n",
    "        #f_data = '.../trainData' # Directory with trainging data\n",
    "        f_data = \"/home/antoine/Documents/Code/DL4FLI/FLINET_ex/dataset/authors_like_train.h5\"\n",
    "\n",
    "        nTG = 160 # Number of time-points\n",
    "        xX = 28\n",
    "        yY = 28\n",
    "        numS = 300\n",
    "\n",
    "        tpsfD = np.ndarray(\n",
    "                (numS, int(xX), int(yY), int(nTG), int(1)), dtype=np.float32\n",
    "                )\n",
    "        t1 = np.ndarray(\n",
    "                (numS, int(xX), int(yY), int(1)), dtype=np.float32\n",
    "                )\n",
    "        t2 = np.ndarray(\n",
    "                (numS, int(xX), int(yY), int(1)), dtype=np.float32\n",
    "                )\n",
    "        tR = np.ndarray(\n",
    "                (numS, int(xX), int(yY), int(1)), dtype=np.float32\n",
    "                )\n",
    "\n",
    "\n",
    "        # Save values to respective mapping\n",
    "        f = h5py.File(f_data,'r') \n",
    "        tpsfD[:,:,:,:,0] = f.get('sigD')\n",
    "        f = h5py.File(f_data,'r') \n",
    "        t1[:,:,:,0] = f.get('t1')\n",
    "        f = h5py.File(f_data,'r') \n",
    "        t2[:,:,:,0] = f.get('t2')\n",
    "        f = h5py.File(f_data,'r') \n",
    "        tR[:,:,:,0] = f.get('rT')\n",
    "\n",
    "    \n",
    "#tpsfD =  np.moveaxis(tpsfD, 1, -2)"
   ]
  },
  {
   "cell_type": "code",
   "execution_count": 54,
   "metadata": {},
   "outputs": [
    {
     "data": {
      "text/plain": [
       "(300, 28, 28, 160, 1)"
      ]
     },
     "execution_count": 54,
     "metadata": {},
     "output_type": "execute_result"
    }
   ],
   "source": [
    "# Ensure TPSF voxel shape is correct dimensionality (# samples, x, y, time-points, 1)\n",
    "tpsfD.shape"
   ]
  },
  {
   "cell_type": "code",
   "execution_count": 55,
   "metadata": {},
   "outputs": [
    {
     "data": {
      "text/plain": [
       "[<matplotlib.lines.Line2D at 0x7f7898191130>]"
      ]
     },
     "execution_count": 55,
     "metadata": {},
     "output_type": "execute_result"
    },
    {
     "data": {
      "image/png": "[encoded data removed]",
      "text/plain": [
       "<Figure size 432x288 with 1 Axes>"
      ]
     },
     "metadata": {},
     "output_type": "display_data"
    },
    {
     "data": {
      "image/png": "[encoded data removed]",
      "text/plain": [
       "<Figure size 432x288 with 1 Axes>"
      ]
     },
     "metadata": {},
     "output_type": "display_data"
    }
   ],
   "source": [
    "nb = 0\n",
    "x = 2\n",
    "y = 21\n",
    "plt.imshow(tpsfD[nb,:,:,:,0].sum(axis = 2))\n",
    "plt.figure()\n",
    "plt.plot(tpsfD[nb,x,y,:,0])"
   ]
  },
  {
   "cell_type": "markdown",
   "metadata": {},
   "source": [
    "# Train"
   ]
  },
  {
   "cell_type": "code",
   "execution_count": 56,
   "metadata": {},
   "outputs": [],
   "source": [
    "# Relevant resblock functions (Keras API)\n",
    "def resblock_2D(num_filters, size_filter, x):\n",
    "    Fx = Conv2D(num_filters, size_filter, padding='same', activation=None)(x)\n",
    "    Fx = Activation('relu')(Fx)\n",
    "    Fx = Conv2D(num_filters, size_filter, padding='same', activation=None)(Fx)\n",
    "    output = add([Fx, x])\n",
    "    output = Activation('relu')(output)\n",
    "    return output\n",
    "\n",
    "def resblock_2D_BN(num_filters, size_filter, x):\n",
    "    Fx = Conv2D(num_filters, size_filter, padding='same', activation=None)(x)\n",
    "    Fx = BatchNormalization()(Fx)\n",
    "    Fx = Activation('relu')(Fx)\n",
    "    Fx = Conv2D(num_filters, size_filter, padding='same', activation=None)(Fx)\n",
    "    Fx = BatchNormalization()(Fx)\n",
    "    output = add([Fx, x])\n",
    "    #output = BatchNormalization()(output)\n",
    "    output = Activation('relu')(output)\n",
    "    return output\n",
    "\n",
    "def resblock_3D_BN(num_filters, size_filter, x):\n",
    "    Fx = Conv3D(num_filters, size_filter, padding='same', activation=None)(x)\n",
    "    Fx = BatchNormalization()(Fx)\n",
    "    Fx = Activation('relu')(Fx)\n",
    "    Fx = Conv3D(num_filters, size_filter, padding='same', activation=None)(Fx)\n",
    "    Fx = BatchNormalization()(Fx)\n",
    "    output = add([Fx, x])\n",
    "    #output = BatchNormalization()(output)\n",
    "    output = Activation('relu')(output)\n",
    "    return output\n",
    "\n",
    "def xCeptionblock_2D_BN(num_filters, size_filter, x):\n",
    "    Fx = SeparableConv2D(num_filters, size_filter, padding='same', activation=None)(x)\n",
    "    Fx = BatchNormalization()(Fx)\n",
    "    Fx = Activation('relu')(Fx)\n",
    "    Fx = SeparableConv2D(num_filters, size_filter, padding='same', activation=None)(Fx)\n",
    "    Fx = BatchNormalization()(Fx)\n",
    "    output = add([Fx, x])\n",
    "    output = Activation('relu')(output)\n",
    "    return output"
   ]
  },
  {
   "cell_type": "code",
   "execution_count": 57,
   "metadata": {},
   "outputs": [],
   "source": [
    "modelD = None\n",
    "xX = 28;\n",
    "yY = 28;\n",
    "\n",
    "t_data = Input(shape=(xX, yY, 160,1))\n",
    "tpsf = t_data\n",
    "\n",
    "# # # # # # # # 3D-Model # # # # # # # #\n",
    "\n",
    "tpsf = Conv3D(50,kernel_size=(1,1,10),strides=(1,1,5), padding='same', activation=None, data_format=\"channels_last\")(tpsf)\n",
    "tpsf = BatchNormalization()(tpsf)\n",
    "tpsf = Activation('relu')(tpsf)\n",
    "tpsf = resblock_3D_BN(50, (1,1,5), tpsf)\n",
    "tpsf = Reshape((xX,yY,1600))(tpsf)\n",
    "tpsf = Conv2D(256, 1, padding='same', activation=None, data_format=\"channels_last\")(tpsf)\n",
    "tpsf = BatchNormalization()(tpsf)\n",
    "tpsf = Activation('relu')(tpsf)\n",
    "tpsf = Conv2D(256, 1, padding='same', activation=None, data_format=\"channels_last\")(tpsf)\n",
    "tpsf = BatchNormalization()(tpsf)\n",
    "tpsf = Activation('relu')(tpsf)\n",
    "tpsf = resblock_2D_BN(256, 1, tpsf)\n",
    "tpsf = resblock_2D_BN(256, 1, tpsf)\n",
    "\n",
    "# Short-lifetime branch\n",
    "imgT1 = Conv2D(64, 1, padding='same', activation=None)(tpsf)\n",
    "imgT1 = BatchNormalization()(imgT1)\n",
    "imgT1 = Activation('relu')(imgT1)\n",
    "imgT1 = Conv2D(32, 1, padding='same', activation=None)(imgT1)\n",
    "imgT1 = BatchNormalization()(imgT1)\n",
    "imgT1 = Activation('relu')(imgT1)\n",
    "imgT1 = Conv2D(1, 1, padding='same', activation=None)(imgT1)\n",
    "imgT1 = Activation('relu', name = \"Short_lifetime\")(imgT1)\n",
    "\n",
    "# Long-lifetime branch\n",
    "imgT2 = Conv2D(64, 1, padding='same', activation=None)(tpsf)\n",
    "imgT2 = BatchNormalization()(imgT2)\n",
    "imgT2 = Activation('relu')(imgT2)\n",
    "imgT2 = Conv2D(32, 1, padding='same', activation=None)(imgT2)\n",
    "imgT2 = BatchNormalization()(imgT2)\n",
    "imgT2 = Activation('relu')(imgT2)\n",
    "imgT2 = Conv2D(1, 1, padding='same', activation=None)(imgT2)\n",
    "imgT2 = Activation('relu', name = \"Long_lifetime\")(imgT2)\n",
    "\n",
    "# Amplitude-Ratio branch\n",
    "imgTR = Conv2D(64, 1, padding='same', activation=None)(tpsf)\n",
    "imgTR = BatchNormalization()(imgTR)\n",
    "imgTR = Activation('relu')(imgTR)\n",
    "imgTR = Conv2D(32, 1, padding='same', activation=None)(imgTR)\n",
    "imgTR = BatchNormalization()(imgTR)\n",
    "imgTR = Activation('relu')(imgTR)\n",
    "imgTR = Conv2D(1, 1, padding='same', activation=None)(imgTR)\n",
    "imgTR = Activation('relu',  name = \"Ratio\")(imgTR)\n",
    "\n",
    "modelD = Model(inputs=[t_data], outputs=[imgT1,imgT2, imgTR])\n",
    "rmsprop = RMSprop(learning_rate=1e-5)\n",
    "\n",
    "modelD.compile(loss='mse',\n",
    "              optimizer=rmsprop,\n",
    "              metrics=['mae'])\n",
    "              \n",
    "fN = 'testName' # Assign some name for weights and training/validation loss curves here"
   ]
  },
  {
   "cell_type": "code",
   "execution_count": 58,
   "metadata": {},
   "outputs": [
    {
     "name": "stdout",
     "output_type": "stream",
     "text": [
      "Epoch 1/500\n",
      "12/12 [==============================] - 25s 2s/step - loss: 0.9008 - Short_lifetime_loss: 0.0920 - Long_lifetime_loss: 0.5080 - Ratio_loss: 0.3007 - Short_lifetime_mae: 0.1515 - Long_lifetime_mae: 0.4183 - Ratio_mae: 0.4212 - val_loss: 0.7767 - val_Short_lifetime_loss: 0.0658 - val_Long_lifetime_loss: 0.5973 - val_Ratio_loss: 0.1137 - val_Short_lifetime_mae: 0.1513 - val_Long_lifetime_mae: 0.4713 - val_Ratio_mae: 0.1993\n",
      "Epoch 2/500\n",
      "12/12 [==============================] - 22s 2s/step - loss: 0.7608 - Short_lifetime_loss: 0.0730 - Long_lifetime_loss: 0.4788 - Ratio_loss: 0.2090 - Short_lifetime_mae: 0.1426 - Long_lifetime_mae: 0.4001 - Ratio_mae: 0.3435 - val_loss: 0.7682 - val_Short_lifetime_loss: 0.0658 - val_Long_lifetime_loss: 0.5973 - val_Ratio_loss: 0.1051 - val_Short_lifetime_mae: 0.1513 - val_Long_lifetime_mae: 0.4713 - val_Ratio_mae: 0.2065\n",
      "Epoch 3/500\n",
      "12/12 [==============================] - 22s 2s/step - loss: 0.6875 - Short_lifetime_loss: 0.0661 - Long_lifetime_loss: 0.4491 - Ratio_loss: 0.1722 - Short_lifetime_mae: 0.1393 - Long_lifetime_mae: 0.3820 - Ratio_mae: 0.3039 - val_loss: 0.7627 - val_Short_lifetime_loss: 0.0658 - val_Long_lifetime_loss: 0.5973 - val_Ratio_loss: 0.0996 - val_Short_lifetime_mae: 0.1513 - val_Long_lifetime_mae: 0.4713 - val_Ratio_mae: 0.2123\n",
      "Epoch 4/500\n",
      "12/12 [==============================] - 22s 2s/step - loss: 0.6269 - Short_lifetime_loss: 0.0627 - Long_lifetime_loss: 0.4151 - Ratio_loss: 0.1491 - Short_lifetime_mae: 0.1393 - Long_lifetime_mae: 0.3612 - Ratio_mae: 0.2744 - val_loss: 0.7593 - val_Short_lifetime_loss: 0.0658 - val_Long_lifetime_loss: 0.5973 - val_Ratio_loss: 0.0962 - val_Short_lifetime_mae: 0.1513 - val_Long_lifetime_mae: 0.4713 - val_Ratio_mae: 0.2177\n",
      "Epoch 5/500\n",
      "12/12 [==============================] - 22s 2s/step - loss: 0.5708 - Short_lifetime_loss: 0.0610 - Long_lifetime_loss: 0.3767 - Ratio_loss: 0.1330 - Short_lifetime_mae: 0.1418 - Long_lifetime_mae: 0.3374 - Ratio_mae: 0.2524 - val_loss: 0.7570 - val_Short_lifetime_loss: 0.0658 - val_Long_lifetime_loss: 0.5973 - val_Ratio_loss: 0.0939 - val_Short_lifetime_mae: 0.1513 - val_Long_lifetime_mae: 0.4713 - val_Ratio_mae: 0.2213\n",
      "Epoch 6/500\n",
      "12/12 [==============================] - 22s 2s/step - loss: 0.5175 - Short_lifetime_loss: 0.0598 - Long_lifetime_loss: 0.3371 - Ratio_loss: 0.1206 - Short_lifetime_mae: 0.1425 - Long_lifetime_mae: 0.3126 - Ratio_mae: 0.2332 - val_loss: 0.7553 - val_Short_lifetime_loss: 0.0658 - val_Long_lifetime_loss: 0.5973 - val_Ratio_loss: 0.0922 - val_Short_lifetime_mae: 0.1513 - val_Long_lifetime_mae: 0.4713 - val_Ratio_mae: 0.2239\n",
      "Epoch 7/500\n",
      "12/12 [==============================] - 21s 2s/step - loss: 0.4669 - Short_lifetime_loss: 0.0590 - Long_lifetime_loss: 0.2982 - Ratio_loss: 0.1098 - Short_lifetime_mae: 0.1414 - Long_lifetime_mae: 0.2882 - Ratio_mae: 0.2138 - val_loss: 0.7544 - val_Short_lifetime_loss: 0.0658 - val_Long_lifetime_loss: 0.5973 - val_Ratio_loss: 0.0913 - val_Short_lifetime_mae: 0.1513 - val_Long_lifetime_mae: 0.4713 - val_Ratio_mae: 0.2277\n",
      "Epoch 8/500\n",
      "12/12 [==============================] - 21s 2s/step - loss: 0.4197 - Short_lifetime_loss: 0.0580 - Long_lifetime_loss: 0.2604 - Ratio_loss: 0.1012 - Short_lifetime_mae: 0.1381 - Long_lifetime_mae: 0.2638 - Ratio_mae: 0.1976 - val_loss: 0.7537 - val_Short_lifetime_loss: 0.0658 - val_Long_lifetime_loss: 0.5973 - val_Ratio_loss: 0.0907 - val_Short_lifetime_mae: 0.1513 - val_Long_lifetime_mae: 0.4713 - val_Ratio_mae: 0.2288\n",
      "Epoch 9/500\n",
      "12/12 [==============================] - 21s 2s/step - loss: 0.3770 - Short_lifetime_loss: 0.0574 - Long_lifetime_loss: 0.2260 - Ratio_loss: 0.0936 - Short_lifetime_mae: 0.1366 - Long_lifetime_mae: 0.2413 - Ratio_mae: 0.1856 - val_loss: 0.7520 - val_Short_lifetime_loss: 0.0657 - val_Long_lifetime_loss: 0.5973 - val_Ratio_loss: 0.0891 - val_Short_lifetime_mae: 0.1544 - val_Long_lifetime_mae: 0.4713 - val_Ratio_mae: 0.2286\n",
      "Epoch 10/500\n",
      "12/12 [==============================] - 22s 2s/step - loss: 0.3379 - Short_lifetime_loss: 0.0568 - Long_lifetime_loss: 0.1941 - Ratio_loss: 0.0870 - Short_lifetime_mae: 0.1353 - Long_lifetime_mae: 0.2199 - Ratio_mae: 0.1757 - val_loss: 0.7489 - val_Short_lifetime_loss: 0.0650 - val_Long_lifetime_loss: 0.5973 - val_Ratio_loss: 0.0867 - val_Short_lifetime_mae: 0.1713 - val_Long_lifetime_mae: 0.4713 - val_Ratio_mae: 0.2262\n",
      "Epoch 11/500\n",
      "12/12 [==============================] - 21s 2s/step - loss: 0.3038 - Short_lifetime_loss: 0.0562 - Long_lifetime_loss: 0.1669 - Ratio_loss: 0.0807 - Short_lifetime_mae: 0.1334 - Long_lifetime_mae: 0.2013 - Ratio_mae: 0.1639 - val_loss: 0.7439 - val_Short_lifetime_loss: 0.0623 - val_Long_lifetime_loss: 0.5973 - val_Ratio_loss: 0.0843 - val_Short_lifetime_mae: 0.1833 - val_Long_lifetime_mae: 0.4713 - val_Ratio_mae: 0.2242\n",
      "Epoch 12/500\n",
      "12/12 [==============================] - 21s 2s/step - loss: 0.2746 - Short_lifetime_loss: 0.0557 - Long_lifetime_loss: 0.1444 - Ratio_loss: 0.0745 - Short_lifetime_mae: 0.1324 - Long_lifetime_mae: 0.1854 - Ratio_mae: 0.1500 - val_loss: 0.7404 - val_Short_lifetime_loss: 0.0592 - val_Long_lifetime_loss: 0.5973 - val_Ratio_loss: 0.0839 - val_Short_lifetime_mae: 0.1933 - val_Long_lifetime_mae: 0.4713 - val_Ratio_mae: 0.2292\n",
      "Epoch 13/500\n",
      "12/12 [==============================] - 21s 2s/step - loss: 0.2498 - Short_lifetime_loss: 0.0552 - Long_lifetime_loss: 0.1255 - Ratio_loss: 0.0691 - Short_lifetime_mae: 0.1311 - Long_lifetime_mae: 0.1718 - Ratio_mae: 0.1424 - val_loss: 0.7371 - val_Short_lifetime_loss: 0.0569 - val_Long_lifetime_loss: 0.5973 - val_Ratio_loss: 0.0829 - val_Short_lifetime_mae: 0.2009 - val_Long_lifetime_mae: 0.4713 - val_Ratio_mae: 0.2282\n",
      "Epoch 14/500\n",
      "12/12 [==============================] - 21s 2s/step - loss: 0.2286 - Short_lifetime_loss: 0.0545 - Long_lifetime_loss: 0.1099 - Ratio_loss: 0.0642 - Short_lifetime_mae: 0.1301 - Long_lifetime_mae: 0.1598 - Ratio_mae: 0.1354 - val_loss: 0.7364 - val_Short_lifetime_loss: 0.0568 - val_Long_lifetime_loss: 0.5973 - val_Ratio_loss: 0.0824 - val_Short_lifetime_mae: 0.2078 - val_Long_lifetime_mae: 0.4713 - val_Ratio_mae: 0.2278\n",
      "Epoch 15/500\n",
      "12/12 [==============================] - 21s 2s/step - loss: 0.2109 - Short_lifetime_loss: 0.0537 - Long_lifetime_loss: 0.0973 - Ratio_loss: 0.0599 - Short_lifetime_mae: 0.1288 - Long_lifetime_mae: 0.1498 - Ratio_mae: 0.1292 - val_loss: 0.7333 - val_Short_lifetime_loss: 0.0560 - val_Long_lifetime_loss: 0.5973 - val_Ratio_loss: 0.0801 - val_Short_lifetime_mae: 0.2103 - val_Long_lifetime_mae: 0.4713 - val_Ratio_mae: 0.2181\n",
      "Epoch 16/500\n",
      "12/12 [==============================] - 21s 2s/step - loss: 0.1962 - Short_lifetime_loss: 0.0530 - Long_lifetime_loss: 0.0872 - Ratio_loss: 0.0560 - Short_lifetime_mae: 0.1275 - Long_lifetime_mae: 0.1415 - Ratio_mae: 0.1241 - val_loss: 0.7296 - val_Short_lifetime_loss: 0.0556 - val_Long_lifetime_loss: 0.5973 - val_Ratio_loss: 0.0768 - val_Short_lifetime_mae: 0.2123 - val_Long_lifetime_mae: 0.4713 - val_Ratio_mae: 0.1963\n",
      "Epoch 17/500\n",
      "12/12 [==============================] - 21s 2s/step - loss: 0.1828 - Short_lifetime_loss: 0.0521 - Long_lifetime_loss: 0.0784 - Ratio_loss: 0.0524 - Short_lifetime_mae: 0.1260 - Long_lifetime_mae: 0.1339 - Ratio_mae: 0.1193 - val_loss: 0.7288 - val_Short_lifetime_loss: 0.0542 - val_Long_lifetime_loss: 0.5973 - val_Ratio_loss: 0.0774 - val_Short_lifetime_mae: 0.2101 - val_Long_lifetime_mae: 0.4713 - val_Ratio_mae: 0.1787\n",
      "Epoch 18/500\n",
      "12/12 [==============================] - 21s 2s/step - loss: 0.1713 - Short_lifetime_loss: 0.0511 - Long_lifetime_loss: 0.0711 - Ratio_loss: 0.0491 - Short_lifetime_mae: 0.1244 - Long_lifetime_mae: 0.1275 - Ratio_mae: 0.1139 - val_loss: 0.7276 - val_Short_lifetime_loss: 0.0495 - val_Long_lifetime_loss: 0.5973 - val_Ratio_loss: 0.0808 - val_Short_lifetime_mae: 0.1983 - val_Long_lifetime_mae: 0.4713 - val_Ratio_mae: 0.1676\n",
      "Epoch 19/500\n",
      "12/12 [==============================] - 22s 2s/step - loss: 0.1612 - Short_lifetime_loss: 0.0500 - Long_lifetime_loss: 0.0649 - Ratio_loss: 0.0462 - Short_lifetime_mae: 0.1225 - Long_lifetime_mae: 0.1219 - Ratio_mae: 0.1105 - val_loss: 0.7271 - val_Short_lifetime_loss: 0.0436 - val_Long_lifetime_loss: 0.5973 - val_Ratio_loss: 0.0863 - val_Short_lifetime_mae: 0.1802 - val_Long_lifetime_mae: 0.4713 - val_Ratio_mae: 0.1576\n",
      "Epoch 20/500\n",
      "12/12 [==============================] - 21s 2s/step - loss: 0.1525 - Short_lifetime_loss: 0.0488 - Long_lifetime_loss: 0.0601 - Ratio_loss: 0.0436 - Short_lifetime_mae: 0.1205 - Long_lifetime_mae: 0.1173 - Ratio_mae: 0.1056 - val_loss: 0.7267 - val_Short_lifetime_loss: 0.0380 - val_Long_lifetime_loss: 0.5973 - val_Ratio_loss: 0.0915 - val_Short_lifetime_mae: 0.1607 - val_Long_lifetime_mae: 0.4713 - val_Ratio_mae: 0.1520\n",
      "Epoch 21/500\n",
      "12/12 [==============================] - 21s 2s/step - loss: 0.1442 - Short_lifetime_loss: 0.0473 - Long_lifetime_loss: 0.0556 - Ratio_loss: 0.0412 - Short_lifetime_mae: 0.1180 - Long_lifetime_mae: 0.1129 - Ratio_mae: 0.1024 - val_loss: 0.7272 - val_Short_lifetime_loss: 0.0330 - val_Long_lifetime_loss: 0.5973 - val_Ratio_loss: 0.0970 - val_Short_lifetime_mae: 0.1417 - val_Long_lifetime_mae: 0.4713 - val_Ratio_mae: 0.1575\n",
      "Epoch 22/500\n",
      "12/12 [==============================] - 21s 2s/step - loss: 0.1354 - Short_lifetime_loss: 0.0458 - Long_lifetime_loss: 0.0506 - Ratio_loss: 0.0390 - Short_lifetime_mae: 0.1153 - Long_lifetime_mae: 0.1077 - Ratio_mae: 0.0995 - val_loss: 0.7285 - val_Short_lifetime_loss: 0.0289 - val_Long_lifetime_loss: 0.5973 - val_Ratio_loss: 0.1024 - val_Short_lifetime_mae: 0.1228 - val_Long_lifetime_mae: 0.4713 - val_Ratio_mae: 0.1631\n",
      "Epoch 23/500\n",
      "12/12 [==============================] - 21s 2s/step - loss: 0.1280 - Short_lifetime_loss: 0.0441 - Long_lifetime_loss: 0.0470 - Ratio_loss: 0.0370 - Short_lifetime_mae: 0.1123 - Long_lifetime_mae: 0.1038 - Ratio_mae: 0.0960 - val_loss: 0.7299 - val_Short_lifetime_loss: 0.0263 - val_Long_lifetime_loss: 0.5973 - val_Ratio_loss: 0.1063 - val_Short_lifetime_mae: 0.1085 - val_Long_lifetime_mae: 0.4713 - val_Ratio_mae: 0.1673\n",
      "Epoch 24/500\n",
      "12/12 [==============================] - 21s 2s/step - loss: 0.1204 - Short_lifetime_loss: 0.0422 - Long_lifetime_loss: 0.0431 - Ratio_loss: 0.0350 - Short_lifetime_mae: 0.1092 - Long_lifetime_mae: 0.0994 - Ratio_mae: 0.0933 - val_loss: 0.7321 - val_Short_lifetime_loss: 0.0255 - val_Long_lifetime_loss: 0.5973 - val_Ratio_loss: 0.1093 - val_Short_lifetime_mae: 0.0896 - val_Long_lifetime_mae: 0.4713 - val_Ratio_mae: 0.1707\n",
      "Epoch 25/500\n",
      "12/12 [==============================] - 21s 2s/step - loss: 0.1134 - Short_lifetime_loss: 0.0402 - Long_lifetime_loss: 0.0400 - Ratio_loss: 0.0332 - Short_lifetime_mae: 0.1055 - Long_lifetime_mae: 0.0958 - Ratio_mae: 0.0907 - val_loss: 0.7348 - val_Short_lifetime_loss: 0.0266 - val_Long_lifetime_loss: 0.5973 - val_Ratio_loss: 0.1110 - val_Short_lifetime_mae: 0.0831 - val_Long_lifetime_mae: 0.4713 - val_Ratio_mae: 0.1727\n",
      "Epoch 26/500\n",
      "12/12 [==============================] - 21s 2s/step - loss: 0.1070 - Short_lifetime_loss: 0.0379 - Long_lifetime_loss: 0.0375 - Ratio_loss: 0.0316 - Short_lifetime_mae: 0.1017 - Long_lifetime_mae: 0.0928 - Ratio_mae: 0.0880 - val_loss: 0.7372 - val_Short_lifetime_loss: 0.0292 - val_Long_lifetime_loss: 0.5973 - val_Ratio_loss: 0.1108 - val_Short_lifetime_mae: 0.0877 - val_Long_lifetime_mae: 0.4713 - val_Ratio_mae: 0.1730\n",
      "Epoch 27/500\n",
      "12/12 [==============================] - 21s 2s/step - loss: 0.1001 - Short_lifetime_loss: 0.0356 - Long_lifetime_loss: 0.0345 - Ratio_loss: 0.0300 - Short_lifetime_mae: 0.0975 - Long_lifetime_mae: 0.0890 - Ratio_mae: 0.0855 - val_loss: 0.7397 - val_Short_lifetime_loss: 0.0321 - val_Long_lifetime_loss: 0.5973 - val_Ratio_loss: 0.1104 - val_Short_lifetime_mae: 0.0927 - val_Long_lifetime_mae: 0.4713 - val_Ratio_mae: 0.1729\n",
      "Epoch 28/500\n",
      "12/12 [==============================] - 21s 2s/step - loss: 0.0944 - Short_lifetime_loss: 0.0334 - Long_lifetime_loss: 0.0325 - Ratio_loss: 0.0285 - Short_lifetime_mae: 0.0935 - Long_lifetime_mae: 0.0864 - Ratio_mae: 0.0830 - val_loss: 0.7414 - val_Short_lifetime_loss: 0.0347 - val_Long_lifetime_loss: 0.5973 - val_Ratio_loss: 0.1094 - val_Short_lifetime_mae: 0.0973 - val_Long_lifetime_mae: 0.4713 - val_Ratio_mae: 0.1724\n",
      "Epoch 29/500\n",
      "12/12 [==============================] - 21s 2s/step - loss: 0.0888 - Short_lifetime_loss: 0.0312 - Long_lifetime_loss: 0.0305 - Ratio_loss: 0.0271 - Short_lifetime_mae: 0.0896 - Long_lifetime_mae: 0.0838 - Ratio_mae: 0.0808 - val_loss: 0.7435 - val_Short_lifetime_loss: 0.0382 - val_Long_lifetime_loss: 0.5973 - val_Ratio_loss: 0.1080 - val_Short_lifetime_mae: 0.1036 - val_Long_lifetime_mae: 0.4713 - val_Ratio_mae: 0.1713\n",
      "Epoch 30/500\n",
      "12/12 [==============================] - 21s 2s/step - loss: 0.0838 - Short_lifetime_loss: 0.0292 - Long_lifetime_loss: 0.0288 - Ratio_loss: 0.0258 - Short_lifetime_mae: 0.0858 - Long_lifetime_mae: 0.0814 - Ratio_mae: 0.0785 - val_loss: 0.7438 - val_Short_lifetime_loss: 0.0412 - val_Long_lifetime_loss: 0.5972 - val_Ratio_loss: 0.1054 - val_Short_lifetime_mae: 0.1089 - val_Long_lifetime_mae: 0.4713 - val_Ratio_mae: 0.1690\n",
      "Epoch 31/500\n",
      "12/12 [==============================] - 21s 2s/step - loss: 0.0783 - Short_lifetime_loss: 0.0271 - Long_lifetime_loss: 0.0266 - Ratio_loss: 0.0246 - Short_lifetime_mae: 0.0821 - Long_lifetime_mae: 0.0783 - Ratio_mae: 0.0763 - val_loss: 0.7432 - val_Short_lifetime_loss: 0.0442 - val_Long_lifetime_loss: 0.5970 - val_Ratio_loss: 0.1020 - val_Short_lifetime_mae: 0.1143 - val_Long_lifetime_mae: 0.4712 - val_Ratio_mae: 0.1661\n",
      "Epoch 32/500\n",
      "12/12 [==============================] - 21s 2s/step - loss: 0.0739 - Short_lifetime_loss: 0.0252 - Long_lifetime_loss: 0.0252 - Ratio_loss: 0.0235 - Short_lifetime_mae: 0.0785 - Long_lifetime_mae: 0.0763 - Ratio_mae: 0.0744 - val_loss: 0.7404 - val_Short_lifetime_loss: 0.0468 - val_Long_lifetime_loss: 0.5960 - val_Ratio_loss: 0.0976 - val_Short_lifetime_mae: 0.1188 - val_Long_lifetime_mae: 0.4708 - val_Ratio_mae: 0.1623\n",
      "Epoch 33/500\n",
      "12/12 [==============================] - 21s 2s/step - loss: 0.0700 - Short_lifetime_loss: 0.0234 - Long_lifetime_loss: 0.0242 - Ratio_loss: 0.0224 - Short_lifetime_mae: 0.0751 - Long_lifetime_mae: 0.0747 - Ratio_mae: 0.0725 - val_loss: 0.7354 - val_Short_lifetime_loss: 0.0492 - val_Long_lifetime_loss: 0.5928 - val_Ratio_loss: 0.0935 - val_Short_lifetime_mae: 0.1229 - val_Long_lifetime_mae: 0.4695 - val_Ratio_mae: 0.1585\n",
      "Epoch 34/500\n",
      "12/12 [==============================] - 22s 2s/step - loss: 0.0655 - Short_lifetime_loss: 0.0217 - Long_lifetime_loss: 0.0223 - Ratio_loss: 0.0214 - Short_lifetime_mae: 0.0719 - Long_lifetime_mae: 0.0720 - Ratio_mae: 0.0707 - val_loss: 0.7228 - val_Short_lifetime_loss: 0.0510 - val_Long_lifetime_loss: 0.5842 - val_Ratio_loss: 0.0876 - val_Short_lifetime_mae: 0.1262 - val_Long_lifetime_mae: 0.4658 - val_Ratio_mae: 0.1529\n",
      "Epoch 35/500\n",
      "12/12 [==============================] - 22s 2s/step - loss: 0.0621 - Short_lifetime_loss: 0.0201 - Long_lifetime_loss: 0.0215 - Ratio_loss: 0.0205 - Short_lifetime_mae: 0.0688 - Long_lifetime_mae: 0.0707 - Ratio_mae: 0.0691 - val_loss: 0.7022 - val_Short_lifetime_loss: 0.0521 - val_Long_lifetime_loss: 0.5676 - val_Ratio_loss: 0.0826 - val_Short_lifetime_mae: 0.1282 - val_Long_lifetime_mae: 0.4583 - val_Ratio_mae: 0.1484\n",
      "Epoch 36/500\n",
      "12/12 [==============================] - 22s 2s/step - loss: 0.0581 - Short_lifetime_loss: 0.0186 - Long_lifetime_loss: 0.0199 - Ratio_loss: 0.0196 - Short_lifetime_mae: 0.0658 - Long_lifetime_mae: 0.0681 - Ratio_mae: 0.0674 - val_loss: 0.6658 - val_Short_lifetime_loss: 0.0521 - val_Long_lifetime_loss: 0.5357 - val_Ratio_loss: 0.0780 - val_Short_lifetime_mae: 0.1284 - val_Long_lifetime_mae: 0.4431 - val_Ratio_mae: 0.1442\n",
      "Epoch 37/500\n",
      " 5/12 [===========>..................] - ETA: 12s - loss: 0.0569 - Short_lifetime_loss: 0.0177 - Long_lifetime_loss: 0.0201 - Ratio_loss: 0.0191 - Short_lifetime_mae: 0.0645 - Long_lifetime_mae: 0.0689 - Ratio_mae: 0.0669"
     ]
    }
   ],
   "source": [
    "# Setting patience (patience = 15 recommended)\n",
    "earlyStopping = EarlyStopping(monitor='val_loss', \n",
    "                              patience = 15, \n",
    "                              verbose = 0,\n",
    "                              mode = 'auto')\n",
    "\n",
    "\n",
    "# Save loss curve (mse) and MAE information over all trained epochs. (monitor = '' can be changed to focus on other tau parameters)\n",
    "modelCheckPoint = ModelCheckpoint(filepath=fN+'.h5', \n",
    "                                  monitor='val_loss', \n",
    "                                  save_best_only=True, \n",
    "                                  verbose=0)\n",
    "# Train network (80/20 train/validation split, batch_size=20 recommended, nb_epoch may vary based on application)\n",
    "history = History()\n",
    "csv_logger = CSVLogger(fN+'.log')\n",
    "history = modelD.fit([tpsfD], [t1,t2,tR],\n",
    "          validation_split=0.2,\n",
    "          batch_size=20, epochs=500, verbose=1, shuffle=True, callbacks=[earlyStopping,csv_logger,modelCheckPoint])"
   ]
  },
  {
   "cell_type": "code",
   "execution_count": null,
   "metadata": {},
   "outputs": [
    {
     "data": {
      "image/png": "[encoded data removed]",
      "text/plain": [
       "<Figure size 432x288 with 1 Axes>"
      ]
     },
     "metadata": {},
     "output_type": "display_data"
    }
   ],
   "source": [
    "plt.plot(history.history['val_Short_lifetime_loss'], label='Short lifetime val MSE')\n",
    "plt.plot(history.history['val_Long_lifetime_loss'], label='Long lifetime val MSE')\n",
    "plt.plot(history.history['val_Ratio_loss'],label= 'Ratio val MSE')\n",
    "plt.legend()\n",
    "plt.xlabel(\"Epochs\")\n",
    "plt.ylabel(\"MSE\")\n",
    "plt.savefig(\"fig/MSE_curves.png\", dpi = 500, transparent=True, bbox_inches='tight')\n",
    "plt.savefig(\"fig/MSE_curves.pdf\", dpi = 500, transparent=True, bbox_inches='tight')"
   ]
  },
  {
   "cell_type": "code",
   "execution_count": null,
   "metadata": {},
   "outputs": [
    {
     "data": {
      "image/png": "[encoded data removed]",
      "text/plain": [
       "<Figure size 432x288 with 1 Axes>"
      ]
     },
     "metadata": {},
     "output_type": "display_data"
    }
   ],
   "source": [
    "plt.plot(history.history['Short_lifetime_loss'], label='Short lifetime train MSE')\n",
    "plt.plot(history.history['Long_lifetime_loss'], label='Long lifetime train MSE')\n",
    "plt.plot(history.history['Ratio_loss'],label= 'Ratio train MSE')\n",
    "plt.legend()\n",
    "plt.xlabel(\"Epochs\")\n",
    "plt.ylabel(\"MSE\")\n",
    "plt.savefig(\"fig/MSE_train_curves.png\", dpi = 500, transparent=True, bbox_inches='tight')\n",
    "plt.savefig(\"fig/MSE_train_curves.pdf\", dpi = 500, transparent=True, bbox_inches='tight')"
   ]
  },
  {
   "cell_type": "markdown",
   "metadata": {},
   "source": [
    "# Load test Data"
   ]
  },
  {
   "cell_type": "markdown",
   "metadata": {},
   "source": [
    "## Authors' data"
   ]
  },
  {
   "cell_type": "code",
   "execution_count": null,
   "metadata": {},
   "outputs": [],
   "source": [
    "# # # # # # # # # # # # # # # # # # # # # # # # # # # # # # # # # # # # # # # # # # # # # # # #\n",
    "# Post-training: load \"best\" trained weights (obtained through patience - lowest value of loss)\n",
    "# THIS CAN BE ANY WEIGHT FILE, AS LONG AS THE NETWORK ARCHITECTURE MATCHES THE ONE USED!\n",
    "# # # # # # # # # # # # # # # # # # # # # # # # # # # # # # # # # # # # # # # # # # # # # # # #\n",
    "\n",
    "modelD.load_weights(fN+'.h5')"
   ]
  },
  {
   "cell_type": "code",
   "execution_count": null,
   "metadata": {},
   "outputs": [],
   "source": [
    "# Upload test data and use 3D-CNN for inference\n",
    "if given == True:\n",
    "        print('pop')\n",
    "        t_data = '/home/antoine/Documents/Code/DL4FLI/FLINET_ex/testData' # directory with test data\n",
    "        stacksT = os.listdir(t_data)\n",
    "        numT = int(len(stacksT))\n",
    "        print(numT)\n",
    "\n",
    "        nTG = 160\n",
    "        xX = 28\n",
    "        yY = 28\n",
    "\n",
    "        tpsfT = np.ndarray(\n",
    "                (numT, int(nTG), int(xX), int(yY), int(1)), dtype=np.float32\n",
    "                )\n",
    "        t1T = np.ndarray(\n",
    "                (numT, int(xX), int(yY), int(1)), dtype=np.float32\n",
    "                )\n",
    "        t2T = np.ndarray(\n",
    "                (numT, int(xX), int(yY), int(1)), dtype=np.float32\n",
    "                )\n",
    "        tRT = np.ndarray(\n",
    "                (numT, int(xX), int(yY), int(1)), dtype=np.float32\n",
    "                )\n",
    "\n",
    "        i = 0;\n",
    "        for d in stacksT:\n",
    "                # Save values to respective mapping\n",
    "                f = h5py.File(os.path.join(t_data,d),'r') \n",
    "                tpsfT[i,:,:,:,0] = f.get('sigD')\n",
    "                f = h5py.File(os.path.join(t_data,d),'r') \n",
    "                t1T[i,:,:,0] = f.get('t1')\n",
    "                f = h5py.File(os.path.join(t_data,d),'r') \n",
    "                t2T[i,:,:,0] = f.get('t2')\n",
    "                f = h5py.File(os.path.join(t_data,d),'r') \n",
    "                tRT[i,:,:,0] = f.get('rT')\n",
    "                i = i + 1\n",
    "        \n",
    "        tpsfT =  np.moveaxis(tpsfT, 1, -2)\n",
    "        print(np.array(tpsfT).shape)"
   ]
  },
  {
   "cell_type": "markdown",
   "metadata": {},
   "source": [
    "## Data with authors' simulator"
   ]
  },
  {
   "cell_type": "code",
   "execution_count": null,
   "metadata": {},
   "outputs": [],
   "source": [
    "#f_data = '.../trainData' # Directory with trainging data\n",
    "\n",
    "if given == False:\n",
    "        f_data = \"/home/antoine/Documents/Code/DL4FLI/FLINET_ex/dataset/authors_like_test.h5\"\n",
    "        print('pop')\n",
    "        nTG = 160 # Number of time-points\n",
    "        xX = 28\n",
    "        yY = 28\n",
    "        numT = 50\n",
    "\n",
    "        tpsfT = np.ndarray(\n",
    "                (numT, int(xX), int(yY), int(nTG), int(1)), dtype=np.float32\n",
    "                )\n",
    "        t1T = np.ndarray(\n",
    "                (numT, int(xX), int(yY), int(1)), dtype=np.float32\n",
    "                )\n",
    "        t2T = np.ndarray(\n",
    "                (numT, int(xX), int(yY), int(1)), dtype=np.float32\n",
    "                )\n",
    "        tRT = np.ndarray(\n",
    "                (numT, int(xX), int(yY), int(1)), dtype=np.float32\n",
    "                )\n",
    "\n",
    "\n",
    "        # Save values to respective mapping\n",
    "        f = h5py.File(f_data,'r') \n",
    "        tpsfT[:,:,:,:,0] = f.get('sigD')\n",
    "        f = h5py.File(f_data,'r') \n",
    "        t1T[:,:,:,0] = f.get('t1')\n",
    "        f = h5py.File(f_data,'r') \n",
    "        t2T[:,:,:,0] = f.get('t2')\n",
    "        f = h5py.File(f_data,'r') \n",
    "        tRT[:,:,:,0] = f.get('rT')\n",
    "        print(np.array(tpsfT).shape)\n",
    "    "
   ]
  },
  {
   "cell_type": "markdown",
   "metadata": {},
   "source": [
    "# Test"
   ]
  },
  {
   "cell_type": "code",
   "execution_count": null,
   "metadata": {},
   "outputs": [],
   "source": [
    "# Perform inference on test data with trained model\n",
    "testV = modelD.predict(tpsfT)\n",
    "t1P = testV[0] # Predicted t1 values\n",
    "t2P = testV[1] # Predicted t2 values\n",
    "tRP = testV[2] # Predicted AR values\n",
    "\n",
    "# Visualize example\n",
    "n = 3 # Number to illustrate w/ matplotlib\n",
    "fig = plt.figure(figsize=(10,10))\n",
    "\n",
    "# Predicted tau1\n",
    "ax1 = fig.add_subplot(3,2,1)\n",
    "ax1.imshow(t1P[n,:,:,0], interpolation='nearest', vmin=.2, vmax=.6)\n",
    "ax1.title.set_text('Predicted tau1')\n",
    "\n",
    "# G.T. tau1\n",
    "ax2 = fig.add_subplot(3,2,2)\n",
    "ax2.imshow(t1T[n,:,:,0], interpolation='nearest', vmin=.2, vmax=.6)\n",
    "ax2.title.set_text('G.T. tau1')\n",
    "\n",
    "# Predicted tau2\n",
    "ax3 = fig.add_subplot(3,2,3)\n",
    "ax3.imshow(t2P[n,:,:,0], interpolation='nearest', vmin=0.8, vmax=1.5)\n",
    "ax3.title.set_text('Predicted tau2')\n",
    "# G.T. tau2\n",
    "ax4 = fig.add_subplot(3,2,4)\n",
    "ax4.imshow(t2T[n,:,:,0], interpolation='nearest', vmin=.8, vmax=1.5)\n",
    "ax4.title.set_text('G.T. tau2')\n",
    "# Predicted amplitude ratio\n",
    "ax5 = fig.add_subplot(3,2,5)\n",
    "ax5.imshow(tRP[n,:,:,0], interpolation='nearest', vmin=0, vmax=1)\n",
    "ax5.title.set_text('Predicted amplitude ratio')\n",
    "# G.T. amplitude ratio\n",
    "ax6 = fig.add_subplot(3,2,6)\n",
    "ax6.imshow(tRT[n,:,:,0], interpolation='nearest', vmin=0, vmax=1)\n",
    "ax6.title.set_text('G.T. amplitude ratio')\n",
    "plt.savefig(\"fig/out.png\", dpi = 500, transparent=True, bbox_inches='tight')\n",
    "plt.savefig(\"fig/out.pdf\", dpi = 500, transparent=True, bbox_inches='tight')"
   ]
  },
  {
   "cell_type": "markdown",
   "metadata": {},
   "source": [
    "# Pearson"
   ]
  },
  {
   "cell_type": "markdown",
   "metadata": {},
   "source": [
    "## Tout le jeu de test"
   ]
  },
  {
   "cell_type": "code",
   "execution_count": null,
   "metadata": {},
   "outputs": [],
   "source": [
    "testV = modelD.predict(tpsfT)\n",
    "t1P = testV[0][:,:,:,0] # Predicted t1 values\n",
    "t2P = testV[1][:,:,:,0] # Predicted t2 values\n",
    "tRP = testV[2][:,:,:,0] # Predicted AR values\n",
    "\n",
    "t1GT = t1T[:,:,:,0] # Ground truth t1 values\n",
    "t2GT = t2T[:,:,:,0] # Grond truth t2 values\n",
    "tRGT = tRT[:,:,:,0] # Ground truth AR values\n",
    "\n",
    "img = tpsfT[:,:,:,:,0].sum(axis = -1)\n",
    "\n",
    "cloud_t1 = [[],[]]\n",
    "cloud_t2 = [[],[]]\n",
    "cloud_tR = [[],[]]\n",
    "for i in range(numT):\n",
    "    for x in range(len(img[0])): # On veut la taille de l'image (qui sont carrées) peut importe laquelle\n",
    "        for y in range(len(img[0])):\n",
    "            if img[i,x,y] >0:\n",
    "                cloud_t1[0].append(t1GT[i,x,y])\n",
    "                cloud_t1[1].append(t1P[i,x,y])\n",
    "                cloud_t2[0].append(t2GT[i,x,y])\n",
    "                cloud_t2[1].append(t2P[i,x,y])\n",
    "                cloud_tR[0].append(tRGT[i,x,y])\n",
    "                cloud_tR[1].append(tRP[i,x,y])\n",
    "        \n",
    "plt.figure()              \n",
    "plt.scatter(*cloud_t1, label = str(round(np.corrcoef(*cloud_t1)[0,1],3)), edgecolors = \"w\", c = \"orange\")\n",
    "plt.grid(alpha= 0.5, ls = \"--\")\n",
    "#plt.xlim(1,1.5)\n",
    "#plt.ylim(0,2.5)\n",
    "plt.legend()\n",
    "plt.xlabel(\"True short lifetime [ns]\")\n",
    "plt.ylabel(\"Predicted short lifetime [ns]\")\n",
    "plt.savefig(\"fig/pearson_cloud_tau1.png\", dpi = 500, transparent=True, bbox_inches='tight')\n",
    "plt.savefig(\"fig/pearson_cloud_tau1.pdf\", dpi = 500, transparent=True, bbox_inches='tight')\n",
    "\n",
    "\n",
    "plt.figure()               \n",
    "plt.scatter(*cloud_t2, label = str(round(np.corrcoef(*cloud_t2)[0,1],3)), edgecolors = \"w\", c = \"orange\")\n",
    "plt.grid(alpha= 0.5, ls = \"--\")\n",
    "#plt.xlim(2,5)\n",
    "#plt.ylim(0,6)\n",
    "plt.legend()\n",
    "plt.xlabel(\"True long lifetime [ns]\")\n",
    "plt.ylabel(\"Predicted long lifetime [ns]\")\n",
    "plt.savefig(\"fig/pearson_cloud_tau1.png\", dpi = 500, transparent=True, bbox_inches='tight')\n",
    "plt.savefig(\"fig/pearson_cloud_tau1.pdf\", dpi = 500, transparent=True, bbox_inches='tight')\n",
    "\n",
    "plt.figure()               \n",
    "plt.scatter(*cloud_tR, label = str(round(np.corrcoef(*cloud_tR)[0,1],3)), edgecolors = \"w\", c = \"orange\")\n",
    "plt.grid(alpha= 0.5, ls = \"--\")\n",
    "#plt.xlim(0,1)\n",
    "#plt.ylim(0)\n",
    "plt.legend()\n",
    "plt.xlabel(\"True ratio of short lifetime\")\n",
    "plt.ylabel(\"Predicted ratio of short lifetime\")\n",
    "\n",
    "plt.savefig(\"fig/pearson_cloud_ratio.png\", dpi = 500, transparent=True, bbox_inches='tight')\n",
    "plt.savefig(\"fig/pearson_cloud_ratio.pdf\", dpi = 500, transparent=True, bbox_inches='tight')"
   ]
  },
  {
   "cell_type": "markdown",
   "metadata": {},
   "source": [
    "## Pearson par image"
   ]
  },
  {
   "cell_type": "code",
   "execution_count": null,
   "metadata": {},
   "outputs": [],
   "source": [
    "testV = modelD.predict(tpsfT)\n",
    "t1P = testV[0][:,:,:,0] # Predicted t1 values\n",
    "t2P = testV[1][:,:,:,0] # Predicted t2 values\n",
    "tRP = testV[2][:,:,:,0] # Predicted AR values\n",
    "\n",
    "t1GT = t1T[:,:,:,0] # Ground truth t1 values\n",
    "t2GT = t2T[:,:,:,0] # Grond truth t2 values\n",
    "tRGT = tRT[:,:,:,0] # Ground truth AR values\n",
    "\n",
    "img = tpsfT[:,:,:,:,0].sum(axis = -1)\n",
    "\n",
    "pearson_t1 = []\n",
    "pearson_t2 = []\n",
    "pearson_tR = []\n",
    "for i in range(numT):\n",
    "    cloud_t1= [[],[]]\n",
    "    cloud_t2 = [[],[]]\n",
    "    cloud_tR = [[],[]]\n",
    "    for x in range(len(img[0])): # On veut la taille de l'image (qui sont carrées) peut importe laquelle\n",
    "        for y in range(len(img[0])):\n",
    "            if img[i,x,y] >0:\n",
    "                cloud_t1[0].append(t1GT[i,x,y])\n",
    "                cloud_t1[1].append(t1P[i,x,y])\n",
    "                cloud_t2[0].append(t2GT[i,x,y])\n",
    "                cloud_t2[1].append(t2P[i,x,y])\n",
    "                cloud_tR[0].append(tRGT[i,x,y])\n",
    "                cloud_tR[1].append(tRP[i,x,y])\n",
    "    pearson_t1.append(np.corrcoef(*cloud_t1)[0,1])\n",
    "    pearson_t2.append(np.corrcoef(*cloud_t2)[0,1])\n",
    "    pearson_tR.append(np.corrcoef(*cloud_tR)[0,1])\n",
    "import seaborn as sns\n",
    "import pandas as pd\n",
    "data = {r'$\\tau$1': pearson_t1, r'$\\tau$2': pearson_t2, 'Ratio': pearson_tR}\n",
    "data = pd.DataFrame(data = data)\n",
    "ax = sns.violinplot(data=data)\n",
    "plt.grid(alpha = 0.5, ls='--')\n",
    "plt.ylabel(\"Pearson\")\n",
    "plt.ylim(0,1)\n",
    "plt.title(\"Distribtion of Pearsons coefficient over each image\")\n",
    "\n",
    "plt.savefig(\"fig/pearson_img.png\", dpi = 500, transparent=True, bbox_inches='tight')\n",
    "plt.savefig(\"fig/pearson_img.pdf\", dpi = 500, transparent=True, bbox_inches='tight')      "
   ]
  },
  {
   "cell_type": "markdown",
   "metadata": {},
   "source": [
    "# SSIM"
   ]
  },
  {
   "cell_type": "code",
   "execution_count": null,
   "metadata": {},
   "outputs": [],
   "source": [
    "from skimage.metrics import structural_similarity as ssim\n",
    "# Perform inference on test data with trained model\n",
    "testV = modelD.predict(tpsfT)\n",
    "t1P = testV[0] # Predicted t1 values\n",
    "t2P = testV[1] # Predicted t2 values\n",
    "tRP = testV[2] # Predicted AR values\n",
    "\n",
    "t1_ssim = []\n",
    "t2_ssim = []\n",
    "ratio_ssim = []\n",
    "bins = np.linspace(start=0, stop = 1, endpoint=True, num = 50)\n",
    "\n",
    "for tau1P, tau2P, ratioP, tau1T, tau2T, ratioT in zip(t1P,t2P,tRP,t1T,t2T,tRT):\n",
    "    t1_ssim.append(ssim(tau1P[:,:,0],tau1T[:,:,0]))\n",
    "    t2_ssim.append(ssim(tau2P[:,:,0],tau2T[:,:,0]))\n",
    "    ratio_ssim.append(ssim(ratioP[:,:,0],ratioT[:,:,0]))\n",
    "\n",
    "t1_ssim = np.array(t1_ssim)\n",
    "t2_ssim = np.array(t2_ssim)\n",
    "ratio_ssim = np.array(ratio_ssim)\n",
    "\n",
    "plt.hist(t1_ssim, bins = bins, histtype=\"step\", lw = 2, label=\"Short lifetime\")\n",
    "plt.hist(t2_ssim, bins = bins, histtype=\"step\", lw = 2, label=\"Long lifetime\")\n",
    "plt.hist(ratio_ssim,bins = bins, histtype=\"step\", lw = 2, label=\"Ratio\")\n",
    "plt.xlabel(\"SSIM score\")\n",
    "plt.ylabel(\"Count\")\n",
    "plt.grid(alpha = 0.5)\n",
    "plt.legend(loc = \"upper left\")\n",
    "plt.savefig(\"fig/ssim.png\", dpi = 500, transparent=True, bbox_inches='tight')\n",
    "plt.savefig(\"fig/ssim.pdf\", dpi = 500, transparent=True, bbox_inches='tight')"
   ]
  },
  {
   "cell_type": "markdown",
   "metadata": {},
   "source": [
    "# TSNE"
   ]
  },
  {
   "cell_type": "code",
   "execution_count": null,
   "metadata": {},
   "outputs": [],
   "source": [
    "xX = 28;\n",
    "yY = 28;\n",
    "\n",
    "t_data = Input(shape=(xX, yY, 160,1))\n",
    "tpsf = t_data\n",
    "\n",
    "# # # # # # # # 3D-Model # # # # # # # #\n",
    "\n",
    "tpsf = Conv3D(50,kernel_size=(1,1,10),strides=(1,1,5), padding='same', activation=None, data_format=\"channels_last\")(tpsf)\n",
    "tpsf = BatchNormalization()(tpsf)\n",
    "tpsf = Activation('relu')(tpsf)\n",
    "tpsf = resblock_3D_BN(50, (1,1,5), tpsf)\n",
    "tpsf = Reshape((xX,yY,1600))(tpsf)\n",
    "tpsf = Conv2D(256, 1, padding='same', activation=None, data_format=\"channels_last\")(tpsf)\n",
    "tpsf = BatchNormalization()(tpsf)\n",
    "tpsf = Activation('relu')(tpsf)\n",
    "tpsf = Conv2D(256, 1, padding='same', activation=None, data_format=\"channels_last\")(tpsf)\n",
    "tpsf = BatchNormalization()(tpsf)\n",
    "tpsf = Activation('relu')(tpsf)\n",
    "tpsf = resblock_2D_BN(256, 1, tpsf)\n",
    "tpsf = resblock_2D_BN(256, 1, tpsf)\n",
    "\n",
    "model_before = Model(inputs=[t_data], outputs=[tpsf])\n",
    "rmsprop = RMSprop(learning_rate=1e-5)\n",
    "\n",
    "model_before.compile(loss='mse',\n",
    "              optimizer=rmsprop,\n",
    "              metrics=['mae'])\n",
    "model_before.load_weights(fN+'.h5', by_name=True)"
   ]
  },
  {
   "cell_type": "code",
   "execution_count": null,
   "metadata": {},
   "outputs": [],
   "source": [
    "print(tpsfT.shape)\n",
    "print(tpsfT.dtype)"
   ]
  },
  {
   "cell_type": "code",
   "execution_count": null,
   "metadata": {},
   "outputs": [],
   "source": [
    "testV = model_before.predict(tpsfT)"
   ]
  },
  {
   "cell_type": "code",
   "execution_count": null,
   "metadata": {},
   "outputs": [],
   "source": [
    "print(testV.shape)\n",
    "print(testV.dtype)"
   ]
  },
  {
   "cell_type": "code",
   "execution_count": null,
   "metadata": {},
   "outputs": [],
   "source": [
    "tpsfT_intensity = tpsfT.sum(-1).sum(-1) # On crée un jeu de donnée en intensité mais on se débarrasse aussi de la dernière dimension. Elle est seulement utile pour Keras\n",
    "data_high = []\n",
    "tm = []\n",
    "print(tpsfT_intensity.shape)\n",
    "for n, image in enumerate(tpsfT_intensity):\n",
    "    for i,ligne in enumerate(image):\n",
    "         for j,pixel in enumerate(ligne):\n",
    "            if pixel>0:\n",
    "                data_high.append(testV[n][i][j])\n",
    "                tm.append(tRT[n][i][j] * t1T[n][i][j] + (1 - tRT[n][i][j]) * t2T[n][i][j])\n",
    "data_high = np.array(data_high).astype(float)\n",
    "print(data_high.shape)\n",
    "print(data_high.dtype)"
   ]
  },
  {
   "cell_type": "code",
   "execution_count": null,
   "metadata": {},
   "outputs": [],
   "source": [
    "from sklearn.manifold import TSNE\n",
    "data_low = TSNE(n_components=2 ,init='random').fit_transform(data_high)"
   ]
  },
  {
   "cell_type": "code",
   "execution_count": null,
   "metadata": {},
   "outputs": [],
   "source": [
    "plt.scatter(*data_low.T, c = tm)\n",
    "plt.colorbar(label = r\"$\\tau_m$\")\n",
    "plt.savefig(\"t_sne.png\", dpi = 500, transparent=True, bbox_inches='tight')\n",
    "plt.savefig(\"t_sne.pdf\", dpi = 500, transparent=True, bbox_inches='tight')\n",
    "plt.xlabel(\"tSNE 1\")\n",
    "plt.ylabel(\"tSNE 2\")\n",
    "plt.savefig(\"fig/t-SNE.png\", dpi = 500, transparent=True, bbox_inches='tight')\n",
    "plt.savefig(\"fig/t-SNE.pdf\", dpi = 500, transparent=True, bbox_inches='tight')"
   ]
  },
  {
   "cell_type": "code",
   "execution_count": null,
   "metadata": {},
   "outputs": [],
   "source": [
    "from sklearn.manifold import TSNE\n",
    "data_low = TSNE(n_components=3 ,init='random').fit_transform(data_high)\n"
   ]
  },
  {
   "cell_type": "code",
   "execution_count": null,
   "metadata": {},
   "outputs": [],
   "source": [
    "from mpl_toolkits import mplot3d\n",
    "\n",
    "\n",
    "fig = plt.figure(figsize = (10, 7))\n",
    "ax = plt.axes(projection =\"3d\")\n",
    "\n",
    "ax.scatter3D(*data_low.T, c = tm)\n",
    "#plt.colorbar(label = r\"$\\tau_m$\")\n",
    "ax.set_xlabel(\"tSNE 1\")\n",
    "ax.set_ylabel(\"tSNE 2\")\n",
    "ax.set_zlabel(\"tSNE 3\")\n",
    "plt.savefig(\"fig/t-SNE_3d.png\", dpi = 500, transparent=True, bbox_inches='tight')\n",
    "plt.savefig(\"fig/t-SNE_3d.pdf\", dpi = 500, transparent=True, bbox_inches='tight')"
   ]
  },
  {
   "cell_type": "markdown",
   "metadata": {},
   "source": [
    "# Downsamplig"
   ]
  },
  {
   "cell_type": "markdown",
   "metadata": {},
   "source": [
    "## Train"
   ]
  },
  {
   "cell_type": "code",
   "execution_count": null,
   "metadata": {},
   "outputs": [],
   "source": [
    "# Ensure TPSF voxel shape is correct dimensionality (# samples, x, y, time-points, 1)\n",
    "X = (tpsfD[:,:,:,:,0] * 2500).astype('int64')\n",
    "X_down = np.zeros_like(X).astype('float32')\n",
    "for i, samples in enumerate(X):\n",
    "    for j, ligne in enumerate(samples):\n",
    "        for m, pixel in enumerate(ligne):\n",
    "             res = np.random.binomial(n = pixel, p = 0.1)\n",
    "             if res.max() != 0:\n",
    "                res = res/res.max()\n",
    "             X_down[i,j,m] = res\n",
    "print(X_down.shape)\n",
    "tpsfD_down = np.ndarray(\n",
    "        (numS, int(xX), int(yY), int(nTG), int(1)), dtype=np.float32\n",
    "        )\n",
    "tpsfD_down[:,:,:,:,0] = X_down"
   ]
  },
  {
   "cell_type": "markdown",
   "metadata": {},
   "source": [
    "## Test"
   ]
  },
  {
   "cell_type": "code",
   "execution_count": null,
   "metadata": {},
   "outputs": [],
   "source": [
    "# Ensure TPSF voxel shape is correct dimensionality (# samples, x, y, time-points, 1)\n",
    "X = (tpsfT[:,:,:,:,0] * 250).astype('int64')\n",
    "plt.plot(X[5,21,6,:])\n",
    "X_down = np.zeros_like(X).astype('float32')\n",
    "\n",
    "count = []\n",
    "for i, samples in enumerate(X):\n",
    "    for j, ligne in enumerate(samples):\n",
    "        for m, pixel in enumerate(ligne):\n",
    "            res = np.random.binomial(n = pixel, p = 0.04)\n",
    "            count.append(res.sum())\n",
    "            if res.max() != 0:\n",
    "                res = res/res.max()\n",
    "            X_down[i,j,m] = res\n",
    "print(X_down.shape)\n",
    "tpsfT_down = np.ndarray(\n",
    "        (numT, int(xX), int(yY), int(nTG), int(1)), dtype=np.float32\n",
    "        )\n",
    "tpsfT_down[:,:,:,:,0] = X_down\n",
    "plt.figure()\n",
    "plt.plot(X_down[5,21,6,:])\n",
    "print(np.mean(count))\n",
    "print(np.std(count))"
   ]
  },
  {
   "cell_type": "code",
   "execution_count": null,
   "metadata": {},
   "outputs": [],
   "source": [
    "# Perform inference on test data with trained model\n",
    "testV = modelD.predict(tpsfT_down)\n",
    "t1P = testV[0] # Predicted t1 values\n",
    "t2P = testV[1] # Predicted t2 values\n",
    "tRP = testV[2] # Predicted AR values"
   ]
  },
  {
   "cell_type": "markdown",
   "metadata": {},
   "source": [
    "## SSIM"
   ]
  },
  {
   "cell_type": "code",
   "execution_count": null,
   "metadata": {},
   "outputs": [],
   "source": [
    "from skimage.metrics import structural_similarity as ssim\n",
    "t1_ssim = []\n",
    "t2_ssim = []\n",
    "ratio_ssim = []\n",
    "bins = np.linspace(start=0, stop = 1, endpoint=True, num = 50)\n",
    "\n",
    "for tau1P, tau2P, ratioP, tau1T, tau2T, ratioT in zip(t1P,t2P,tRP,t1T,t2T,tRT):\n",
    "    t1_ssim.append(ssim(tau1P[:,:,0],tau1T[:,:,0]))\n",
    "    t2_ssim.append(ssim(tau2P[:,:,0],tau2T[:,:,0]))\n",
    "    ratio_ssim.append(ssim(ratioP[:,:,0],ratioT[:,:,0]))\n",
    "\n",
    "t1_ssim = np.array(t1_ssim)\n",
    "t2_ssim = np.array(t2_ssim)\n",
    "ratio_ssim = np.array(ratio_ssim)\n",
    "\n",
    "plt.hist(t1_ssim, bins = bins, histtype=\"step\", lw = 2, label=\"Short lifetime\")\n",
    "plt.hist(t2_ssim, bins = bins, histtype=\"step\", lw = 2, label=\"Long lifetime\")\n",
    "plt.hist(ratio_ssim,bins = bins, histtype=\"step\", lw = 2, label=\"Ratio\")\n",
    "plt.xlabel(\"SSIM score\")\n",
    "plt.ylabel(\"Count\")\n",
    "plt.grid(alpha = 0.5)\n",
    "plt.legend(loc = \"upper left\")\n",
    "plt.savefig(\"fig/ssim_down.png\", dpi = 500, transparent=True, bbox_inches='tight')\n",
    "plt.savefig(\"fig/ssim_down.pdf\", dpi = 500, transparent=True, bbox_inches='tight')"
   ]
  },
  {
   "cell_type": "markdown",
   "metadata": {},
   "source": [
    "## Pearson"
   ]
  },
  {
   "cell_type": "markdown",
   "metadata": {},
   "source": [
    "### Tout le jeu de test"
   ]
  },
  {
   "cell_type": "code",
   "execution_count": null,
   "metadata": {},
   "outputs": [],
   "source": [
    "testV = modelD.predict(tpsfT_down)\n",
    "t1P = testV[0][:,:,:,0] # Predicted t1 values\n",
    "t2P = testV[1][:,:,:,0] # Predicted t2 values\n",
    "tRP = testV[2][:,:,:,0] # Predicted AR values\n",
    "\n",
    "t1GT = t1T[:,:,:,0] # Ground truth t1 values\n",
    "t2GT = t2T[:,:,:,0] # Grond truth t2 values\n",
    "tRGT = tRT[:,:,:,0] # Ground truth AR values\n",
    "\n",
    "img = tpsfT[:,:,:,:,0].sum(axis = -1)\n",
    "\n",
    "cloud_t1 = [[],[]]\n",
    "cloud_t2 = [[],[]]\n",
    "cloud_tR = [[],[]]\n",
    "for i in range(numT):\n",
    "    for x in range(len(img[0])): # On veut la taille de l'image (qui sont carrées) peut importe laquelle\n",
    "        for y in range(len(img[0])):\n",
    "            if img[i,x,y] >0:\n",
    "                cloud_t1[0].append(t1GT[i,x,y])\n",
    "                cloud_t1[1].append(t1P[i,x,y])\n",
    "                cloud_t2[0].append(t2GT[i,x,y])\n",
    "                cloud_t2[1].append(t2P[i,x,y])\n",
    "                cloud_tR[0].append(tRGT[i,x,y])\n",
    "                cloud_tR[1].append(tRP[i,x,y])\n",
    "        \n",
    "plt.figure()              \n",
    "plt.scatter(*cloud_t1, label = str(round(np.corrcoef(*cloud_t1)[0,1],3)), edgecolors = \"w\", c = \"orange\")\n",
    "plt.grid(alpha= 0.5, ls = \"--\")\n",
    "#plt.xlim(1,1.5)\n",
    "#plt.ylim(0,2.5)\n",
    "plt.legend()\n",
    "plt.xlabel(\"True short lifetime [ns]\")\n",
    "plt.ylabel(\"Predicted short lifetime [ns]\")\n",
    "\n",
    "plt.figure()               \n",
    "plt.scatter(*cloud_t2, label = str(round(np.corrcoef(*cloud_t2)[0,1],3)), edgecolors = \"w\", c = \"orange\")\n",
    "plt.grid(alpha= 0.5, ls = \"--\")\n",
    "#plt.xlim(2,5)\n",
    "#plt.ylim(0,6)\n",
    "plt.legend()\n",
    "plt.xlabel(\"True long lifetime [ns]\")\n",
    "plt.ylabel(\"Predicted long lifetime [ns]\")\n",
    "\n",
    "plt.figure()               \n",
    "plt.scatter(*cloud_tR, label = str(round(np.corrcoef(*cloud_tR)[0,1],3)), edgecolors = \"w\", c = \"orange\")\n",
    "plt.grid(alpha= 0.5, ls = \"--\")\n",
    "#plt.xlim(0,1)\n",
    "#plt.ylim(0)\n",
    "plt.legend()\n",
    "plt.xlabel(\"True ratio of short lifetime\")\n",
    "plt.ylabel(\"Predicted ratio of short lifetime\")\n",
    "\n",
    "plt.savefig(\"fig/pearson_cloud_ratio_down.png\", dpi = 500, transparent=True, bbox_inches='tight')\n",
    "plt.savefig(\"fig/pearson_cloud_ratio_down.pdf\", dpi = 500, transparent=True, bbox_inches='tight')"
   ]
  },
  {
   "cell_type": "markdown",
   "metadata": {},
   "source": [
    "### Pearson par image"
   ]
  },
  {
   "cell_type": "code",
   "execution_count": null,
   "metadata": {},
   "outputs": [],
   "source": [
    "testV = modelD.predict(tpsfT_down)\n",
    "t1P = testV[0][:,:,:,0] # Predicted t1 values\n",
    "t2P = testV[1][:,:,:,0] # Predicted t2 values\n",
    "tRP = testV[2][:,:,:,0] # Predicted AR values\n",
    "\n",
    "t1GT = t1T[:,:,:,0] # Ground truth t1 values\n",
    "t2GT = t2T[:,:,:,0] # Grond truth t2 values\n",
    "tRGT = tRT[:,:,:,0] # Ground truth AR values\n",
    "\n",
    "img = tpsfT[:,:,:,:,0].sum(axis = -1)\n",
    "\n",
    "pearson_t1 = []\n",
    "pearson_t2 = []\n",
    "pearson_tR = []\n",
    "for i in range(numT):\n",
    "    cloud_t1= [[],[]]\n",
    "    cloud_t2 = [[],[]]\n",
    "    cloud_tR = [[],[]]\n",
    "    for x in range(len(img[0])): # On veut la taille de l'image (qui sont carrées) peut importe laquelle\n",
    "        for y in range(len(img[0])):\n",
    "            if img[i,x,y] >0:\n",
    "                cloud_t1[0].append(t1GT[i,x,y])\n",
    "                cloud_t1[1].append(t1P[i,x,y])\n",
    "                cloud_t2[0].append(t2GT[i,x,y])\n",
    "                cloud_t2[1].append(t2P[i,x,y])\n",
    "                cloud_tR[0].append(tRGT[i,x,y])\n",
    "                cloud_tR[1].append(tRP[i,x,y])\n",
    "    pearson_t1.append(np.corrcoef(*cloud_t1)[0,1])\n",
    "    pearson_t2.append(np.corrcoef(*cloud_t2)[0,1])\n",
    "    pearson_tR.append(np.corrcoef(*cloud_tR)[0,1])\n",
    "import seaborn as sns\n",
    "import pandas as pd\n",
    "data = {r'$\\tau$1': pearson_t1, r'$\\tau$2': pearson_t2, 'Ratio': pearson_tR}\n",
    "data = pd.DataFrame(data = data)\n",
    "ax = sns.violinplot(data = data)\n",
    "plt.grid(alpha = 0.5, ls='--')\n",
    "plt.ylim(0,1)\n",
    "plt.ylabel(\"Pearson\")\n",
    "\n",
    "\n",
    "plt.savefig(\"fig/pearson_img_down.png\", dpi = 500, transparent=True, bbox_inches='tight')\n",
    "plt.savefig(\"fig/pearson_img_down.pdf\", dpi = 500, transparent=True, bbox_inches='tight')      "
   ]
  },
  {
   "cell_type": "code",
   "execution_count": null,
   "metadata": {},
   "outputs": [],
   "source": []
  }
 ],
 "metadata": {
  "interpreter": {
   "hash": "40d3a090f54c6569ab1632332b64b2c03c39dcf918b08424e98f38b5ae0af88f"
  },
  "kernelspec": {
   "display_name": "Python 3.8.10 ('base')",
   "language": "python",
   "name": "python3"
  },
  "language_info": {
   "codemirror_mode": {
    "name": "ipython",
    "version": 3
   },
   "file_extension": ".py",
   "mimetype": "text/x-python",
   "name": "python",
   "nbconvert_exporter": "python",
   "pygments_lexer": "ipython3",
   "version": "3.8.10"
  }
 },
 "nbformat": 4,
 "nbformat_minor": 2
}
